{
  "nbformat": 4,
  "nbformat_minor": 0,
  "metadata": {
    "colab": {
      "name": "Projekt5_text_analyzator.ipynb",
      "provenance": [],
      "authorship_tag": "ABX9TyPJT/ka4iv44XufWzrLJ+Ml",
      "include_colab_link": true
    },
    "kernelspec": {
      "name": "python3",
      "display_name": "Python 3"
    }
  },
  "cells": [
    {
      "cell_type": "markdown",
      "metadata": {
        "id": "view-in-github",
        "colab_type": "text"
      },
      "source": [
        "<a href=\"https://colab.research.google.com/github/MichalHovorka/Projekt_5_Text_Analyzator/blob/main/Projekt5_text_analyzator.ipynb\" target=\"_parent\"><img src=\"https://colab.research.google.com/assets/colab-badge.svg\" alt=\"Open In Colab\"/></a>"
      ]
    },
    {
      "cell_type": "code",
      "metadata": {
        "colab": {
          "base_uri": "https://localhost:8080/"
        },
        "id": "iB_7VS7bWcwX",
        "outputId": "56a90ce5-db65-4aa2-ca78-e2de7e555e3f"
      },
      "source": [
        "#Textový analýzátor - Projekt 5\n",
        "\n",
        "# Registrovaní uživatelé\n",
        "#| USER      |   PASSWORD  |\n",
        "#-----------------------\n",
        "#| bob       |     123     |\n",
        "#| ann       |    pass123  |\n",
        "#| mike      | password123 |\n",
        "#| liz       |    pass123  |\n",
        "#| Miky      |    123      |\n",
        "\n",
        "data = {\n",
        "\t'bob': '123',\n",
        "\t'ann': 'pass123',\n",
        "\t'mike': 'password123',\n",
        "  'liz' : 'pass123',\n",
        "  'Miky' : '123'\n",
        "\t\t\t}\n",
        "\n",
        "# Zeptej se na uzivatelske jmeno a heslo\n",
        "jmeno = input('Zadej své jméno: ' )\n",
        "heslo = input('Zadej heslo: ')\n",
        "\n",
        "print('-' *60)\n",
        "\n",
        "# definování proměnných (3 texty k vyhodnocení)\n",
        "zdroj1 = 'BBC'\n",
        "text1 = 'Situated about 10 miles west of Kemmerer,Fossil Butte is a ruggedly impressive topographic feature that rises sharply some 1000 feet above Twin Creek Valley to an elevation of more than 7500 feet above sea level. The butte is located just north of US 30N and the Union Pacific Railroad, which traverse the valley.'\n",
        "zdroj2 = 'REUTER'\n",
        "text2 = 'At the base of Fossil Butte are the bright red, purple, yellow and gray beds of the Wasatch Formation. Eroded portions of these horizontal beds slope gradually upward from the valley floor and steepen abruptly. Overlying them and extending to the top of the butte are the much steeper buff-to-white beds of the Green River Formation, which are about 300 feet thick.'\n",
        "zdroj3 = 'AFP'\n",
        "text3 = 'The monument contains 8198 acres and protects a portion of the largest deposit of freshwater fish fossils in the world. The richest fossil fish deposits are found in multiple limestone layers, which lie some 100 feet below the top of the butte. The fossils represent several varieties of perch, as well as other freshwater genera and herring similar to those in modern oceans. Other fish such as paddlefish, garpike and stingray are also present.'\n",
        "\n",
        "# vytvoření databáze TEXTS a naplnění z proměnných Text 1-3\n",
        "TEXTS = {}\n",
        "TEXTS.setdefault(\"1\", dict(( (\"zdroj\",zdroj1),(\"text\",text1) )) )\n",
        "TEXTS.setdefault(\"2\", dict(( (\"zdroj\",zdroj2),(\"text\",text2) )) )\n",
        "TEXTS.setdefault(\"3\", dict(( (\"zdroj\",zdroj3),(\"text\",text3) )) )\n",
        "#print(TEXTS.keys())\n",
        "\n",
        "# Vyhodnocení jména a hesla\n",
        "if data.get(jmeno) == heslo :\n",
        "\tprint(\n",
        "'Vítej v aplikaci \"TexAN\", '  + jmeno + '!' + \n",
        "' K analýze textu je aktuálně k dispozici tento počet článků: ' + str(len(TEXTS))\n",
        "  )\n",
        "else:\n",
        "    print('Heslo, nebo uživatelské jméno je špatně!')\n",
        "\n",
        "\n",
        "print('-' *60)\n",
        "\n",
        "#---------------jak vratit uzivatele, aby musel o dva kroky zpět a musel zadal znovu sve jmeno??????\n",
        "\n",
        "\n",
        "#vybíráme ze 3 textu\n",
        "vyber_text = input('Zadej pořadové číslo článku (v rozmezí 1 až ' + str(len(TEXTS)) + '): ' )\n",
        "\n",
        "\n",
        "print('-' *60)\n",
        "\n",
        "#možnosti jak porovnat že zadaná hodnota je typu INT:\n",
        "# - Mohu změnit type pro input (int('input('Enter... '))),'\n",
        "# - nebo použít import numbers, nebo try-expect block,\n",
        "# - použil jsem try-expect block:\n",
        "\n",
        "try:\n",
        "    tmp = int(vyber_text)\n",
        "    print('Vybral jsi článek číslo: ' + vyber_text )\n",
        "except:\n",
        "    print('Nezadal jsi celé číslo')\n",
        "\n",
        "#----------------jak se vrátit o krok zpět, a zadat číslo znovu?????\n",
        "\n",
        "\n",
        "# Vyhodnocení pořadí text (1-3) \n",
        "#if \"text\" + str(vyber_text) in TEXTS.keys():\n",
        "if vyber_text in TEXTS.keys():\n",
        "    print('Analyzuji text...')\n",
        "else:\n",
        "    print('K dispozici jsou pouze ' + str(len(TEXTS)) + ' články')\n",
        "\n",
        "print('-' *60)\n",
        "\n",
        "\n",
        "# počítám slova ve vybranem text\n",
        "\n",
        "#vybrany_text = TEXTS.get(vyber_text,\"Takovy klic tu neni\")\n",
        "vybrany_text = TEXTS.get(vyber_text)\n",
        "#if vybrany_text != \"Takovy klic tu neni\":\n",
        "if vyber_text in TEXTS.keys():\n",
        "\n",
        "  pocet_slov = {}\n",
        "  for ciste_slovo in [slovo.strip(\",.?!\")  for slovo in vybrany_text[\"text\"].split(\" \")]:\n",
        "    pocet_slov[ciste_slovo] = pocet_slov.get(ciste_slovo,0) + 1\n",
        "else:\n",
        "    print('Vybral jsi článek, který není k dispozici')\n",
        "\n",
        "\n",
        "# vybírám zdroj článku do textu odpovědí s počtem slov\n",
        "vybrany_text = TEXTS.get(vyber_text)\n",
        "zdroj_clanku = (vybrany_text[\"zdroj\"])\n",
        "\n",
        "\n",
        "# odpověď na první úkol (počet slov v článku)\n",
        "print('Ve vybraném článku od agentury'+ ' ' + str(zdroj_clanku) + ' ' + 'je ' + str(len(pocet_slov)) + ' slov.' ) # počet slov v textu. \n",
        "\n",
        "print('-' *60)\n",
        "\n",
        "\n",
        "####################################################################\n",
        "#Pro vybraný text počítám následující statistiky:\n",
        "#- počet slov,\n",
        "#- počet slov začínajících velkým písmenem,\n",
        "#- počet slov psaných velkými písmeny,\n",
        "#- počet slov psaných malými písmeny,\n",
        "#- počet čísel (ne cifer),\n",
        "#- sumu všech čísel (ne cifer) v textu.\n",
        "\n",
        "\n"
      ],
      "execution_count": 60,
      "outputs": [
        {
          "output_type": "stream",
          "text": [
            "Zadej své jméno: f\n",
            "Zadej heslo: f\n",
            "------------------------------------------------------------\n",
            "Heslo, nebo uživatelské jméno je špatně!\n",
            "------------------------------------------------------------\n",
            "Zadej pořadové číslo článku (v rozmezí 1 až 3): 2\n",
            "------------------------------------------------------------\n",
            "Vybral jsi článek číslo: 2\n",
            "Analyzuji text...\n",
            "------------------------------------------------------------\n",
            "Ve vybraném článku od agentury REUTER je 44 slov.\n",
            "------------------------------------------------------------\n"
          ],
          "name": "stdout"
        }
      ]
    },
    {
      "cell_type": "code",
      "metadata": {
        "id": "9_I-eds1uAEo"
      },
      "source": [
        ""
      ],
      "execution_count": null,
      "outputs": []
    },
    {
      "cell_type": "markdown",
      "metadata": {
        "id": "qi4pLHe0pVCv"
      },
      "source": [
        "# Nová sekce"
      ]
    }
  ]
}