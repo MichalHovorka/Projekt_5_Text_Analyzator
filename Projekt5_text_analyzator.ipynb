{
  "nbformat": 4,
  "nbformat_minor": 0,
  "metadata": {
    "colab": {
      "name": "Projekt5_text_analyzator.ipynb",
      "provenance": [],
      "authorship_tag": "ABX9TyNLC19hNfTlAaWt0qKUM3je",
      "include_colab_link": true
    },
    "kernelspec": {
      "name": "python3",
      "display_name": "Python 3"
    }
  },
  "cells": [
    {
      "cell_type": "markdown",
      "metadata": {
        "id": "view-in-github",
        "colab_type": "text"
      },
      "source": [
        "<a href=\"https://colab.research.google.com/github/MichalHovorka/Projekt_5_Text_Analyzator/blob/main/Projekt5_text_analyzator.ipynb\" target=\"_parent\"><img src=\"https://colab.research.google.com/assets/colab-badge.svg\" alt=\"Open In Colab\"/></a>"
      ]
    },
    {
      "cell_type": "code",
      "metadata": {
        "colab": {
          "base_uri": "https://localhost:8080/"
        },
        "id": "iB_7VS7bWcwX",
        "outputId": "7030aa7b-ec8b-48b9-b7c3-2400d1a83e46"
      },
      "source": [
        "#Textový analýzátor - Projekt 5\n",
        "\n",
        "# Registrovaní uživatelé\n",
        "#| USER |   PASSWORD  |\n",
        "#-----------------------\n",
        "#| bob  |     123     |\n",
        "#| ann  |    pass123  |\n",
        "#| mike | password123 |\n",
        "#| liz  |    pass123  |\n",
        "\n",
        "data = {\n",
        "\t'bob': '123',\n",
        "\t'ann': 'pass123',\n",
        "\t'mike': 'password123',\n",
        "  'liz' : 'pass123'\n",
        "\t\t\t}\n",
        "\n",
        "# Zeptej se na uzivatelske jmeno a heslo\n",
        "jmeno = input('Zadej své jméno: ' )\n",
        "heslo = input('Zadej heslo: ')\n",
        "\n",
        "print('-' *60)\n",
        "\n",
        "# Vyhodnocení jména a hesla\n",
        "if data.get(jmeno) == heslo :\n",
        "\tprint(\n",
        "'Welcome to the app, '  + jmeno + '!' + \n",
        "' We have 3 texts to be analyzed. '\n",
        "  )\n",
        "else:\n",
        "    print('Heslo, nebo uživatelské jméno je špatně!')\n",
        "\n",
        "print('-' *60)\n"
      ],
      "execution_count": 17,
      "outputs": [
        {
          "output_type": "stream",
          "text": [
            "Zadej své jméno: bob\n",
            "Zadej heslo: 123\n",
            "------------------------------------------------------------\n",
            "Welcome to the app, bob! We have 3 texts to be analyzed. \n",
            "------------------------------------------------------------\n"
          ],
          "name": "stdout"
        }
      ]
    }
  ]
}