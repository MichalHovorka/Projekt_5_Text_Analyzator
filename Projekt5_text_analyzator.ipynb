{
  "nbformat": 4,
  "nbformat_minor": 0,
  "metadata": {
    "colab": {
      "name": "Projekt5_text_analyzator.ipynb",
      "provenance": [],
      "authorship_tag": "ABX9TyNUPba+hfTv11gJedHLf2LR",
      "include_colab_link": true
    },
    "kernelspec": {
      "name": "python3",
      "display_name": "Python 3"
    }
  },
  "cells": [
    {
      "cell_type": "markdown",
      "metadata": {
        "id": "view-in-github",
        "colab_type": "text"
      },
      "source": [
        "<a href=\"https://colab.research.google.com/github/MichalHovorka/Projekt_5_Text_Analyzator/blob/main/Projekt5_text_analyzator.ipynb\" target=\"_parent\"><img src=\"https://colab.research.google.com/assets/colab-badge.svg\" alt=\"Open In Colab\"/></a>"
      ]
    },
    {
      "cell_type": "code",
      "metadata": {
        "colab": {
          "base_uri": "https://localhost:8080/"
        },
        "id": "iB_7VS7bWcwX",
        "outputId": "3ba04a2c-03f6-4778-a69d-3b49af45ffd9"
      },
      "source": [
        "#Textový analýzátor - Projekt 5\n",
        "\n",
        "# Registrovaní uživatelé\n",
        "#| USER |   PASSWORD  |\n",
        "#-----------------------\n",
        "#| bob  |     123     |\n",
        "#| ann  |    pass123  |\n",
        "#| mike | password123 |\n",
        "#| liz  |    pass123  |\n",
        "\n",
        "data = {\n",
        "\t'bob': '123',\n",
        "\t'ann': 'pass123',\n",
        "\t'mike': 'password123',\n",
        "  'liz' : 'pass123'\n",
        "\t\t\t}\n",
        "\n",
        "# Zeptej se na uzivatelske jmeno a heslo\n",
        "jmeno = input('Zadej své jméno: ' )\n",
        "heslo = input('Zadej heslo: ')\n",
        "\n",
        "print('-' *60)\n",
        "\n",
        "# Vyhodnocení jména a hesla\n",
        "if data.get(jmeno) == heslo :\n",
        "\tprint(\n",
        "'Vítej v aplikaci \"TexAN\", '  + jmeno + '!' + \n",
        "' K analýze textu je aktuálně k dispozici tento počet článků: ' + str(len(TEXTS))\n",
        "  )\n",
        "else:\n",
        "    print('Heslo, nebo uživatelské jméno je špatně!')\n",
        "\n",
        "\n",
        "print('-' *60)\n",
        "\n",
        "#---------------jak vratit uzivatele, aby musel o dva kroky zpět a musel zadal znovu sve jmeno??????\n",
        "\n",
        "# proměnná TEXT (3 texty k vyhodnocení)\n",
        "TEXTS = {'Text1':\n",
        "         'Situated about 10 miles west of Kemmerer,Fossil Butte is a ruggedly impressive topographic feature that rises sharply some 1000 feet above Twin Creek Valley to an elevation of more than 7500 feet above sea level. The butte is located just north of US 30N and the Union Pacific Railroad, which traverse the valley',\n",
        "         'Text2':\n",
        "         'At the base of Fossil Butte are the bright red, purple, yellow and gray beds of the Wasatch Formation. Eroded portions of these horizontal beds slope gradually upward from the valley floor and steepen abruptly. Overlying them and extending to the top of the butte are the much steeper buff-to-white beds of the Green River Formation, which are about 300 feet thick.', \n",
        "         'Text3':\n",
        "         'The monument contains 8198 acres and protects a portion of the largest deposit of freshwater fish fossils in the world. The richest fossil fish deposits are found in multiple limestone layers, which lie some 100 feet below the top of the butte. The fossils represent several varieties of perch, as well as other freshwater genera and herring similar to those in modern oceans. Other fish such as paddlefish, garpike and stingray are also present.'}\n",
        "\n",
        "#vybíráme ze 3 textu\n",
        "text_number = input('Zadej pořadové číslo článku (v rozmezí 1 až ' + str(len(TEXTS)) + '): ' )\n",
        "#možnosti jak porovnat že zadaná hodnota je typu INT:\n",
        "#Mohu změnit type pro input (int('input('Enter... '))),'\n",
        "#nebo použít import numbers, nebo try-expect block,\n",
        "#použil jsem try-expect block:\n",
        "\n",
        "try:\n",
        "    tmp = int(text_number)\n",
        "    print('Vybral jsi článek číslo: ' + text_number )\n",
        "except:\n",
        "    print('Nezadal jsi celé číslo')\n",
        "\n",
        "#----------------jak se vrátit o krok zpět, a zadat číslo znovu?????\n",
        "\n",
        "\n",
        "# Vyhodnocení pořadí text (1-3) \n",
        "if \"Text\" + str(text_number) in TEXTS.keys():\n",
        "    print('Analyzuji text')\n",
        "else:\n",
        "    print('K dispozici jsou pouze ' + str(len(TEXTS)) + ' články')\n",
        "\n",
        "\n",
        "\n",
        "\n",
        "\n",
        "\n"
      ],
      "execution_count": 108,
      "outputs": [
        {
          "output_type": "stream",
          "text": [
            "Zadej své jméno: bob\n",
            "Zadej heslo: 123\n",
            "------------------------------------------------------------\n",
            "Vítej v aplikaci \"TexAN\", bob! K analýze textu je aktuálně k dispozici tento počet článků: 3\n",
            "------------------------------------------------------------\n",
            "Zadej pořadové číslo článku (v rozmezí 1 až 3): 6\n",
            "Vybral jsi článek číslo: 6\n",
            "K dispozici jsou pouze 3 články\n"
          ],
          "name": "stdout"
        }
      ]
    }
  ]
}