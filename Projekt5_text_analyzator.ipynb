{
  "nbformat": 4,
  "nbformat_minor": 0,
  "metadata": {
    "colab": {
      "name": "Projekt5_text_analyzator.ipynb",
      "provenance": [],
      "authorship_tag": "ABX9TyNzsZ2JWN466jRkdQjxoUFm",
      "include_colab_link": true
    },
    "kernelspec": {
      "name": "python3",
      "display_name": "Python 3"
    }
  },
  "cells": [
    {
      "cell_type": "markdown",
      "metadata": {
        "id": "view-in-github",
        "colab_type": "text"
      },
      "source": [
        "<a href=\"https://colab.research.google.com/github/MichalHovorka/Projekt_5_Text_Analyzator/blob/main/Projekt5_text_analyzator.ipynb\" target=\"_parent\"><img src=\"https://colab.research.google.com/assets/colab-badge.svg\" alt=\"Open In Colab\"/></a>"
      ]
    },
    {
      "cell_type": "code",
      "metadata": {
        "colab": {
          "base_uri": "https://localhost:8080/"
        },
        "id": "iB_7VS7bWcwX",
        "outputId": "4b0d3819-ce47-4a46-d5de-0e11d5d3e32a"
      },
      "source": [
        "#Textový analýzátor - Projekt 5\n",
        "\n",
        "# Registrovaní uživatelé\n",
        "#| USER |   PASSWORD  |\n",
        "#-----------------------\n",
        "#| bob  |     123     |\n",
        "#| ann  |    pass123  |\n",
        "#| mike | password123 |\n",
        "#| liz  |    pass123  |\n",
        "\n",
        "data = {\n",
        "\t'bob': '123',\n",
        "\t'ann': 'pass123',\n",
        "\t'mike': 'password123',\n",
        "  'liz' : 'pass123'\n",
        "\t\t\t}\n",
        "\n",
        "# Zeptej se na uzivatelske jmeno a heslo\n",
        "jmeno = input('Zadej své jméno: ' )\n",
        "heslo = input('Zadej heslo: ')\n",
        "\n",
        "print('-' *60)\n",
        "\n",
        "# Vyhodnocení jména a hesla\n",
        "if data.get(jmeno) == heslo :\n",
        "\tprint(\n",
        "'Welcome to the app, '  + jmeno + '!' + \n",
        "' We have 3 texts to be analyzed. '\n",
        "  )\n",
        "else:\n",
        "    print('Heslo, nebo uživatelské jméno je špatně!')\n",
        "\n",
        "print('-' *60)\n",
        "\n",
        "# proměnná TEXT (3 texty k vyhodnocení)\n",
        "TEXTS = {1:\n",
        "         'Situated about 10 miles west of Kemmerer,Fossil Butte is a ruggedly impressive topographic feature that rises sharply some 1000 feet above Twin Creek Valley to an elevation of more than 7500 feet above sea level. The butte is located just north of US 30N and the Union Pacific Railroad, which traverse the valley',\n",
        "         2:\n",
        "         'At the base of Fossil Butte are the bright red, purple, yellow and gray beds of the Wasatch Formation. Eroded portions of these horizontal beds slope gradually upward from the valley floor and steepen abruptly. Overlying them and extending to the top of the butte are the much steeper buff-to-white beds of the Green River Formation, which are about 300 feet thick.', \n",
        "         3:\n",
        "         'The monument contains 8198 acres and protects a portion of the largest deposit of freshwater fish fossils in the world. The richest fossil fish deposits are found in multiple limestone layers, which lie some 100 feet below the top of the butte. The fossils represent several varieties of perch, as well as other freshwater genera and herring similar to those in modern oceans. Other fish such as paddlefish, garpike and stingray are also present.'}\n",
        "\n",
        "#print(TEXTS)\n",
        "\n",
        "\n",
        "#vybíráme ze 3 textu\n",
        "text_number = int(input('Enter a number between 1 and 3 to select: ' ))\n",
        "#jak porovnat že zadaná hodnota je typu INT ???\n",
        "\n",
        "#definovaní hodnoty proměnné\n",
        "text_klice = TEXTS.keys()\n",
        "\n",
        "#testovací tisk(pracovní)\n",
        "#print(text_klice)\n",
        "\n",
        "# Vyhodnocení pořadí text (1-3) \n",
        "if text_number in (text_klice) :\n",
        "    print('Goooood')\n",
        "else:\n",
        "    print('Vybral jsi číslo textu, který není v evidenci, vybírej pouze v rozmezí 1-3')\n",
        "\n",
        "#jak porovnat hodnoty klíčů se vstupem podle jejich indexu, abych nemusel mít klíče ve slovníku definované čísly ???\n"
      ],
      "execution_count": 56,
      "outputs": [
        {
          "output_type": "stream",
          "text": [
            "Zadej své jméno: bob\n",
            "Zadej heslo: 123\n",
            "------------------------------------------------------------\n",
            "Welcome to the app, bob! We have 3 texts to be analyzed. \n",
            "------------------------------------------------------------\n",
            "Enter a number between 1 and 3 to select: 1\n",
            "Goooood\n"
          ],
          "name": "stdout"
        }
      ]
    }
  ]
}